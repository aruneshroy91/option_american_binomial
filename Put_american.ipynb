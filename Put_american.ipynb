{
 "cells": [
  {
   "cell_type": "markdown",
   "metadata": {},
   "source": [
    "# American put option pricing using Binomial model\n",
    "\n",
    "Import required modules and define the $^{n}C_{p} \\equiv $ choosing $p$ objects from $n$ objects, where the order of selection doesn't matter "
   ]
  },
  {
   "cell_type": "code",
   "execution_count": 1,
   "metadata": {},
   "outputs": [],
   "source": [
    "import numpy as np\n",
    "def nCp(m,r1):\n",
    "    return np.math.factorial(m)/(np.math.factorial(r1)*np.math.factorial(m-r1))"
   ]
  },
  {
   "cell_type": "markdown",
   "metadata": {},
   "source": [
    "## Black Scholes Parameters\n",
    "* Annualized volatility of the stock $\\sigma$,\n",
    "* Risk free interest rate $r \\%$,\n",
    "## Other parametes\n",
    "* Initial stock price $S_0$, \n",
    "* Time to expiry $T$ years, \n",
    "* Total nodes of the Binomial lattice $n_{node}$,\n",
    "* Nodes we want to evaluate at $n$,\n",
    "* Strike price $K$,\n",
    "* Dividend yield $c \\%$ \n",
    "## Binomial model parameters\n",
    "* $R_n = \\exp(r\\frac{T}{n})$ \n",
    "* $R_n - c_n = \\exp((r-c)\\frac{T}{n})$ \n",
    "* $u_n = \\exp(\\sigma\\sqrt{\\frac{T}{n}})$\n",
    "* $d_n = 1/u_n$\n",
    "* Risk neutral probablility $q_n = \\frac{R_n-c_n-d_n}{u_n-d_n}$"
   ]
  },
  {
   "cell_type": "code",
   "execution_count": 2,
   "metadata": {},
   "outputs": [],
   "source": [
    "#\n",
    "T = 0.25\n",
    "S0 = 100\n",
    "r = 0.02\n",
    "sigma = 0.3\n",
    "c = 0.01\n",
    "n = 15\n",
    "K = 110\n",
    "n_node = 15\n",
    "#\n",
    "R = np.exp(r*T/n)\n",
    "R_c = np.exp((r-c)*T/n)\n",
    "u = np.exp(sigma*np.sqrt(T/n))\n",
    "d = np.exp(-sigma*np.sqrt(T/n))\n",
    "q = (np.exp((r-c)*T/n) - d)/(u -d)"
   ]
  },
  {
   "cell_type": "markdown",
   "metadata": {},
   "source": [
    "## Difference between the stock and strike price at each nodes"
   ]
  },
  {
   "cell_type": "code",
   "execution_count": null,
   "metadata": {},
   "outputs": [],
   "source": [
    "# Stock price\n",
    "def Sn(S0,n):\n",
    "    return  [round(S0 * u**i * d**(n-i),3) for i in reversed(range(n+1))]\n",
    "# Stock price tree \n",
    "def Sn_tree(S0,n):\n",
    "    return  [Sn(S0,n) for n in range(n+1)]\n",
    "# Differnece between the strike price K and stock price S0 at node n\n",
    "def KSndiff(S0,K,n):\n",
    "    return [round(max(0,K-ele),3) for ele in Sn(S0, n)]\n",
    "# Strike price - stock price tree\n",
    "def KSndiff_tree(S0,K,n):\n",
    "    return [KSndiff(S0,K,n) for n in range(n+1)]\n",
    "# Pairwise sum\n",
    "def pairwise_q_sum(lst):\n",
    "    sum = 0;\n",
    "    pair_sum = []\n",
    "    for i in range(len(lst)-1):\n",
    "        sum = (1/R)*(q*lst[i] + (1-q)*lst[i+1])\n",
    "        pair_sum.append(round(sum,3))\n",
    "    return pair_sum"
   ]
  },
  {
   "cell_type": "code",
   "execution_count": 3,
   "metadata": {},
   "outputs": [
    {
     "name": "stdout",
     "output_type": "stream",
     "text": [
      "[0, 0, 0, 0, 0, 0, 1.946, 10.0, 17.454, 24.352, 30.735, 36.643, 42.111, 47.171, 51.854]\n",
      "[0.0, 0.0, 0.0, 0.0, 0.0, 0.0, 3.07, 9.98, 17.432, 24.329, 30.712, 36.619, 42.086, 47.145, 51.827]\n"
     ]
    }
   ],
   "source": [
    "print(KSndiff(S0,K,n_node-1))\n",
    "print(pairwise_q_sum(KSndiff(S0,K,n_node)))"
   ]
  },
  {
   "cell_type": "markdown",
   "metadata": {},
   "source": [
    "## Price of American put at the starting node\n",
    "\n",
    "* American put option price for the above parameters is 12.30"
   ]
  },
  {
   "cell_type": "code",
   "execution_count": 4,
   "metadata": {},
   "outputs": [],
   "source": [
    "put_A = [None]*(n_node+1)\n",
    "put_A[n_node] = KSndiff(S0,K,n_node)\n",
    "put_A[n_node-1] = max(KSndiff(S0,K,n_node-1),pairwise_q_sum(KSndiff(S0,K,n_node)))\n",
    "#put_A[n_node-2] = max(KSndiff(S0,K,n_node-2),put_A[n_node-1])\n",
    "for n in range(2,n_node+1):\n",
    "    put_A[n_node-n] = max(KSndiff(S0,K,n_node-n),pairwise_q_sum(put_A[n_node+1-n]))"
   ]
  },
  {
   "cell_type": "code",
   "execution_count": 5,
   "metadata": {},
   "outputs": [
    {
     "data": {
      "text/plain": [
       "[[12.306],\n",
       " [9.533, 15.005],\n",
       " [7.008, 11.989, 17.942],\n",
       " [4.813, 9.142, 14.759, 21.043],\n",
       " [3.02, 6.556, 11.657, 17.779, 24.223],\n",
       " [1.672, 4.329, 8.722, 14.512, 20.96, 27.405],\n",
       " [0.772, 2.546, 6.061, 11.309, 17.629, 24.206, 30.528],\n",
       " [0.267, 1.263, 3.793, 8.266, 14.269, 20.9, 27.43, 33.555],\n",
       " [0.052, 0.475, 2.028, 5.508, 10.947, 17.502, 24.211, 30.571, 36.473],\n",
       " [0.0, 0.103, 0.836, 3.186, 7.764, 14.042, 20.871, 27.467, 33.603, 39.282],\n",
       " [0.0,\n",
       "  0.0,\n",
       "  0.203,\n",
       "  1.451,\n",
       "  4.872,\n",
       "  10.575,\n",
       "  17.415,\n",
       "  24.239,\n",
       "  30.618,\n",
       "  36.522,\n",
       "  41.986],\n",
       " [0.0,\n",
       "  0.0,\n",
       "  0.0,\n",
       "  0.401,\n",
       "  2.471,\n",
       "  7.204,\n",
       "  13.853,\n",
       "  20.882,\n",
       "  27.513,\n",
       "  33.651,\n",
       "  39.332,\n",
       "  44.588],\n",
       " [0.0,\n",
       "  0.0,\n",
       "  0.0,\n",
       "  0.0,\n",
       "  0.79,\n",
       "  4.103,\n",
       "  10.217,\n",
       "  17.39,\n",
       "  24.284,\n",
       "  30.665,\n",
       "  36.571,\n",
       "  42.036,\n",
       "  47.093],\n",
       " [0.0,\n",
       "  0.0,\n",
       "  0.0,\n",
       "  0.0,\n",
       "  0.0,\n",
       "  1.558,\n",
       "  6.575,\n",
       "  13.758,\n",
       "  20.925,\n",
       "  27.559,\n",
       "  33.699,\n",
       "  39.381,\n",
       "  44.639,\n",
       "  49.505],\n",
       " [0.0,\n",
       "  0.0,\n",
       "  0.0,\n",
       "  0.0,\n",
       "  0.0,\n",
       "  0.0,\n",
       "  3.07,\n",
       "  9.98,\n",
       "  17.432,\n",
       "  24.329,\n",
       "  30.712,\n",
       "  36.619,\n",
       "  42.086,\n",
       "  47.145,\n",
       "  51.827],\n",
       " [0,\n",
       "  0,\n",
       "  0,\n",
       "  0,\n",
       "  0,\n",
       "  0,\n",
       "  0,\n",
       "  6.051,\n",
       "  13.799,\n",
       "  20.969,\n",
       "  27.605,\n",
       "  33.747,\n",
       "  39.43,\n",
       "  44.69,\n",
       "  49.558,\n",
       "  54.063]]"
      ]
     },
     "execution_count": 5,
     "metadata": {},
     "output_type": "execute_result"
    }
   ],
   "source": [
    "put_A"
   ]
  }
 ],
 "metadata": {
  "interpreter": {
   "hash": "a7c62af40af18bc5177663327d031688dc12a6ab89afb8b930ea67d36fe6623b"
  },
  "kernelspec": {
   "display_name": "Python 3.8.5 ('base')",
   "language": "python",
   "name": "python3"
  },
  "language_info": {
   "codemirror_mode": {
    "name": "ipython",
    "version": 3
   },
   "file_extension": ".py",
   "mimetype": "text/x-python",
   "name": "python",
   "nbconvert_exporter": "python",
   "pygments_lexer": "ipython3",
   "version": "3.8.5"
  },
  "orig_nbformat": 4
 },
 "nbformat": 4,
 "nbformat_minor": 2
}
